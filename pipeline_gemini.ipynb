{
 "cells": [
  {
   "cell_type": "code",
   "execution_count": 56,
   "id": "e91dd33c",
   "metadata": {},
   "outputs": [],
   "source": [
    "import pandas as pd\n",
    "import re\n",
    "import unicodedata\n",
    "import itertools"
   ]
  },
  {
   "cell_type": "code",
   "execution_count": 57,
   "id": "4b5020ba",
   "metadata": {},
   "outputs": [
    {
     "data": {
      "application/vnd.microsoft.datawrangler.viewer.v0+json": {
       "columns": [
        {
         "name": "index",
         "rawType": "int64",
         "type": "integer"
        },
        {
         "name": "Texto_BC",
         "rawType": "object",
         "type": "string"
        }
       ],
       "ref": "141f6756-ee74-47cd-98f4-aa9ea0522e38",
       "rows": [
        [
         "0",
         "Fui até a agencia para falar com o gerente sobre o meu problema, mas nao tive retorno algum sobre o caso."
        ],
        [
         "1",
         "Estou há semanas aguardando um contato da agencia. Ninguém me liga, o gerente nunca está disponível."
        ],
        [
         "2",
         "Total falta de feedback da minha agencia. Preciso de uma solução e não consigo falar com ninguém."
        ],
        [
         "3",
         "O aplicativo do banco é ótimo, mas o atendimento na agencia deixa a desejar. O gerente prometeu um retorno que nunca aconteceu."
        ],
        [
         "4",
         "Recebi um email sobre um novo produto, mas quando liguei para a central, não souberam me informar. Não tem a ver com a agencia."
        ],
        [
         "5",
         "Problema resolvido rapidamente pelo telefone, não precisei ir ao banco nem falar com o gerente."
        ],
        [
         "6",
         "A agencia está sempre lotada. Pedi um retorno do meu gerente sobre o investimento e até agora nada."
        ],
        [
         "7",
         "Não obtive nenhuma resposta da agencia sobre a minha solicitação. É uma completa falta de respeito com o cliente."
        ]
       ],
       "shape": {
        "columns": 1,
        "rows": 8
       }
      },
      "text/html": [
       "<div>\n",
       "<style scoped>\n",
       "    .dataframe tbody tr th:only-of-type {\n",
       "        vertical-align: middle;\n",
       "    }\n",
       "\n",
       "    .dataframe tbody tr th {\n",
       "        vertical-align: top;\n",
       "    }\n",
       "\n",
       "    .dataframe thead th {\n",
       "        text-align: right;\n",
       "    }\n",
       "</style>\n",
       "<table border=\"1\" class=\"dataframe\">\n",
       "  <thead>\n",
       "    <tr style=\"text-align: right;\">\n",
       "      <th></th>\n",
       "      <th>Texto_BC</th>\n",
       "    </tr>\n",
       "  </thead>\n",
       "  <tbody>\n",
       "    <tr>\n",
       "      <th>0</th>\n",
       "      <td>Fui até a agencia para falar com o gerente sob...</td>\n",
       "    </tr>\n",
       "    <tr>\n",
       "      <th>1</th>\n",
       "      <td>Estou há semanas aguardando um contato da agen...</td>\n",
       "    </tr>\n",
       "    <tr>\n",
       "      <th>2</th>\n",
       "      <td>Total falta de feedback da minha agencia. Prec...</td>\n",
       "    </tr>\n",
       "    <tr>\n",
       "      <th>3</th>\n",
       "      <td>O aplicativo do banco é ótimo, mas o atendimen...</td>\n",
       "    </tr>\n",
       "    <tr>\n",
       "      <th>4</th>\n",
       "      <td>Recebi um email sobre um novo produto, mas qua...</td>\n",
       "    </tr>\n",
       "    <tr>\n",
       "      <th>5</th>\n",
       "      <td>Problema resolvido rapidamente pelo telefone, ...</td>\n",
       "    </tr>\n",
       "    <tr>\n",
       "      <th>6</th>\n",
       "      <td>A agencia está sempre lotada. Pedi um retorno ...</td>\n",
       "    </tr>\n",
       "    <tr>\n",
       "      <th>7</th>\n",
       "      <td>Não obtive nenhuma resposta da agencia sobre a...</td>\n",
       "    </tr>\n",
       "  </tbody>\n",
       "</table>\n",
       "</div>"
      ],
      "text/plain": [
       "                                            Texto_BC\n",
       "0  Fui até a agencia para falar com o gerente sob...\n",
       "1  Estou há semanas aguardando um contato da agen...\n",
       "2  Total falta de feedback da minha agencia. Prec...\n",
       "3  O aplicativo do banco é ótimo, mas o atendimen...\n",
       "4  Recebi um email sobre um novo produto, mas qua...\n",
       "5  Problema resolvido rapidamente pelo telefone, ...\n",
       "6  A agencia está sempre lotada. Pedi um retorno ...\n",
       "7  Não obtive nenhuma resposta da agencia sobre a..."
      ]
     },
     "execution_count": 57,
     "metadata": {},
     "output_type": "execute_result"
    }
   ],
   "source": [
    "# ==============================================================================\n",
    "# ETAPA 1: CRIAÇÃO DE DADOS FICTÍCIOS\n",
    "# ==============================================================================\n",
    "\n",
    "# Dados fictícios para simular as reclamações\n",
    "data = {\n",
    "    'Texto_BC': [\n",
    "        \"Fui até a agencia para falar com o gerente sobre o meu problema, mas nao tive retorno algum sobre o caso.\",\n",
    "        \"Estou há semanas aguardando um contato da agencia. Ninguém me liga, o gerente nunca está disponível.\",\n",
    "        \"Total falta de feedback da minha agencia. Preciso de uma solução e não consigo falar com ninguém.\",\n",
    "        \"O aplicativo do banco é ótimo, mas o atendimento na agencia deixa a desejar. O gerente prometeu um retorno que nunca aconteceu.\",\n",
    "        \"Recebi um email sobre um novo produto, mas quando liguei para a central, não souberam me informar. Não tem a ver com a agencia.\",\n",
    "        \"Problema resolvido rapidamente pelo telefone, não precisei ir ao banco nem falar com o gerente.\",\n",
    "        \"A agencia está sempre lotada. Pedi um retorno do meu gerente sobre o investimento e até agora nada.\",\n",
    "        \"Não obtive nenhuma resposta da agencia sobre a minha solicitação. É uma completa falta de respeito com o cliente.\"\n",
    "    ]\n",
    "}\n",
    "df = pd.DataFrame(data)\n",
    "df"
   ]
  },
  {
   "cell_type": "code",
   "execution_count": 58,
   "id": "1617635b",
   "metadata": {},
   "outputs": [
    {
     "data": {
      "application/vnd.microsoft.datawrangler.viewer.v0+json": {
       "columns": [
        {
         "name": "index",
         "rawType": "int64",
         "type": "integer"
        },
        {
         "name": "Texto_BC",
         "rawType": "object",
         "type": "string"
        },
        {
         "name": "text_tratado",
         "rawType": "object",
         "type": "string"
        }
       ],
       "ref": "47a27c3e-445c-47fa-8a5a-dfdd1b71d3e0",
       "rows": [
        [
         "0",
         "Fui até a agencia para falar com o gerente sobre o meu problema, mas nao tive retorno algum sobre o caso.",
         "fui ate a agencia para falar com o gerente sobre o meu problema mas nao tive retorno algum sobre o caso"
        ],
        [
         "1",
         "Estou há semanas aguardando um contato da agencia. Ninguém me liga, o gerente nunca está disponível.",
         "estou ha semanas aguardando um contato da agencia ninguem me liga o gerente nunca esta disponivel"
        ],
        [
         "2",
         "Total falta de feedback da minha agencia. Preciso de uma solução e não consigo falar com ninguém.",
         "total falta de feedback da minha agencia preciso de uma solucao e nao consigo falar com ninguem"
        ],
        [
         "3",
         "O aplicativo do banco é ótimo, mas o atendimento na agencia deixa a desejar. O gerente prometeu um retorno que nunca aconteceu.",
         "o aplicativo do banco e otimo mas o atendimento na agencia deixa a desejar o gerente prometeu um retorno que nunca aconteceu"
        ],
        [
         "4",
         "Recebi um email sobre um novo produto, mas quando liguei para a central, não souberam me informar. Não tem a ver com a agencia.",
         "recebi um email sobre um novo produto mas quando liguei para a central nao souberam me informar nao tem a ver com a agencia"
        ],
        [
         "5",
         "Problema resolvido rapidamente pelo telefone, não precisei ir ao banco nem falar com o gerente.",
         "problema resolvido rapidamente pelo telefone nao precisei ir ao banco nem falar com o gerente"
        ],
        [
         "6",
         "A agencia está sempre lotada. Pedi um retorno do meu gerente sobre o investimento e até agora nada.",
         "a agencia esta sempre lotada pedi um retorno do meu gerente sobre o investimento e ate agora nada"
        ],
        [
         "7",
         "Não obtive nenhuma resposta da agencia sobre a minha solicitação. É uma completa falta de respeito com o cliente.",
         "nao obtive nenhuma resposta da agencia sobre a minha solicitacao e uma completa falta de respeito com o cliente"
        ]
       ],
       "shape": {
        "columns": 2,
        "rows": 8
       }
      },
      "text/html": [
       "<div>\n",
       "<style scoped>\n",
       "    .dataframe tbody tr th:only-of-type {\n",
       "        vertical-align: middle;\n",
       "    }\n",
       "\n",
       "    .dataframe tbody tr th {\n",
       "        vertical-align: top;\n",
       "    }\n",
       "\n",
       "    .dataframe thead th {\n",
       "        text-align: right;\n",
       "    }\n",
       "</style>\n",
       "<table border=\"1\" class=\"dataframe\">\n",
       "  <thead>\n",
       "    <tr style=\"text-align: right;\">\n",
       "      <th></th>\n",
       "      <th>Texto_BC</th>\n",
       "      <th>text_tratado</th>\n",
       "    </tr>\n",
       "  </thead>\n",
       "  <tbody>\n",
       "    <tr>\n",
       "      <th>0</th>\n",
       "      <td>Fui até a agencia para falar com o gerente sob...</td>\n",
       "      <td>fui ate a agencia para falar com o gerente sob...</td>\n",
       "    </tr>\n",
       "    <tr>\n",
       "      <th>1</th>\n",
       "      <td>Estou há semanas aguardando um contato da agen...</td>\n",
       "      <td>estou ha semanas aguardando um contato da agen...</td>\n",
       "    </tr>\n",
       "    <tr>\n",
       "      <th>2</th>\n",
       "      <td>Total falta de feedback da minha agencia. Prec...</td>\n",
       "      <td>total falta de feedback da minha agencia preci...</td>\n",
       "    </tr>\n",
       "    <tr>\n",
       "      <th>3</th>\n",
       "      <td>O aplicativo do banco é ótimo, mas o atendimen...</td>\n",
       "      <td>o aplicativo do banco e otimo mas o atendiment...</td>\n",
       "    </tr>\n",
       "    <tr>\n",
       "      <th>4</th>\n",
       "      <td>Recebi um email sobre um novo produto, mas qua...</td>\n",
       "      <td>recebi um email sobre um novo produto mas quan...</td>\n",
       "    </tr>\n",
       "    <tr>\n",
       "      <th>5</th>\n",
       "      <td>Problema resolvido rapidamente pelo telefone, ...</td>\n",
       "      <td>problema resolvido rapidamente pelo telefone n...</td>\n",
       "    </tr>\n",
       "    <tr>\n",
       "      <th>6</th>\n",
       "      <td>A agencia está sempre lotada. Pedi um retorno ...</td>\n",
       "      <td>a agencia esta sempre lotada pedi um retorno d...</td>\n",
       "    </tr>\n",
       "    <tr>\n",
       "      <th>7</th>\n",
       "      <td>Não obtive nenhuma resposta da agencia sobre a...</td>\n",
       "      <td>nao obtive nenhuma resposta da agencia sobre a...</td>\n",
       "    </tr>\n",
       "  </tbody>\n",
       "</table>\n",
       "</div>"
      ],
      "text/plain": [
       "                                            Texto_BC  \\\n",
       "0  Fui até a agencia para falar com o gerente sob...   \n",
       "1  Estou há semanas aguardando um contato da agen...   \n",
       "2  Total falta de feedback da minha agencia. Prec...   \n",
       "3  O aplicativo do banco é ótimo, mas o atendimen...   \n",
       "4  Recebi um email sobre um novo produto, mas qua...   \n",
       "5  Problema resolvido rapidamente pelo telefone, ...   \n",
       "6  A agencia está sempre lotada. Pedi um retorno ...   \n",
       "7  Não obtive nenhuma resposta da agencia sobre a...   \n",
       "\n",
       "                                        text_tratado  \n",
       "0  fui ate a agencia para falar com o gerente sob...  \n",
       "1  estou ha semanas aguardando um contato da agen...  \n",
       "2  total falta de feedback da minha agencia preci...  \n",
       "3  o aplicativo do banco e otimo mas o atendiment...  \n",
       "4  recebi um email sobre um novo produto mas quan...  \n",
       "5  problema resolvido rapidamente pelo telefone n...  \n",
       "6  a agencia esta sempre lotada pedi um retorno d...  \n",
       "7  nao obtive nenhuma resposta da agencia sobre a...  "
      ]
     },
     "execution_count": 58,
     "metadata": {},
     "output_type": "execute_result"
    }
   ],
   "source": [
    "# ==============================================================================\n",
    "# ETAPA 2: PRÉ-PROCESSAMENTO DO TEXTO\n",
    "# ==============================================================================\n",
    "\n",
    "def preprocess_text(text):\n",
    "    # Converter para minúsculas\n",
    "    text = text.lower()\n",
    "    # Remover acentos\n",
    "    nfkd_form = unicodedata.normalize('NFKD', text)\n",
    "    text = \"\".join([c for c in nfkd_form if not unicodedata.combining(c)])\n",
    "    # Remover números e caracteres especiais\n",
    "    text = re.sub(r'[^a-z\\s]', '', text)\n",
    "    # Remover espaços extras\n",
    "    text = re.sub(r'\\s+', ' ', text).strip()\n",
    "    return text\n",
    "\n",
    "# Aplicando a função e criando a nova coluna\n",
    "df['text_tratado'] = df['Texto_BC'].apply(preprocess_text)\n",
    "df"
   ]
  },
  {
   "cell_type": "code",
   "execution_count": 59,
   "id": "d8dfab13",
   "metadata": {},
   "outputs": [
    {
     "name": "stdout",
     "output_type": "stream",
     "text": [
      "Frases expandidas (possíveis falta de retorno):\n",
      "['ausencia de contato', 'falta de feedback', 'nao recebi contato', 'sem de feedback', 'sem contato', 'nao obtive contato', 'falta de resposta', 'nenhum resposta', 'ausencia de resposta', 'sem de retorno', 'sem de resposta', 'falta de contato', 'nenhum retorno', 'nao obtive retorno', 'ausencia de feedback', 'nao tive retorno', 'sem de contato', 'sem resposta', 'sem retorno', 'ausencia de retorno', 'sem feedback', 'nao obtive resposta', 'nao recebi retorno', 'nao obtive feedback', 'nao recebi resposta', 'nenhum contato', 'nao tive resposta', 'nao recebi feedback', 'nao tive feedback', 'nao tive contato', 'nenhum feedback', 'falta de retorno']\n",
      "\n",
      "Frases expandidas de possíveis espera:\n",
      "['faz semanas', 'a partir de o dia', 'fazem dias', 'faz semana', 'a partir de o meses', 'a partir de o dias', 'ate agora nada', 'fazem mes', 'desde o dias', 'a partir de o semana', 'ha semanas', 'desde o meses', 'ha meses', 'desde o dia o semana', 'ha mes', 'fazem semana', 'a partir de o mes', 'ha semana', 'faz dias', 'ha dia', 'faz meses', 'desde o mes', 'desde o dia o semanas', 'estou esperando', 'desde o dia o mes', 'desde o dia', 'desde o semana', 'fazem dia', 'fazem meses', 'ha dias', 'fazem semanas', 'faz mes', 'desde o dia o dia', 'desde o semanas', 'desde o dia o meses', 'desde o dia o dias', 'faz dia', 'a partir de o semanas']\n",
      "\n",
      "Frases expandidas de certeza:\n",
      "['o gerente nao me deu retorno', 'funcionario da agencia nao me retornou', 'ate o momento o funcionario da funcionario da agencia nao me deu retorno', 'ate o momento o funcionario da gerente nao me deu retorno', 'o agencia nao me deu retorno', 'ate o momento o funcionario da agencia nao me deu resposta', 'funcionario da agencia nao me deu parecer', 'funcionario da agencia nao me deu retorno', 'funcionario da agencia nao respondeu', 'ate agora a agencia nao me deu respostas', 'gerente nao me retornou', 'o agencia nao me deu resposta', 'agencia nao me deu retorno', 'ate o momento o funcionario da agencia nao me deu retorno', 'agencia nao me deu parecer', 'agencia nao me deu resposta', 'ate o momento o funcionario da agencia nao me deu parecer', 'funcionario da funcionario da agencia nao respondeu', 'gerente nao me deu parecer', 'o agencia nao me respondeu', 'o gerente nao me respondeu', 'o funcionario da agencia nao me deu retorno', 'ate agora a funcionario da agencia nao me deu respostas', 'gerente nao me deu resposta', 'o funcionario da agencia nao me respondeu', 'ate o momento o funcionario da gerente nao me deu resposta', 'o funcionario da agencia nao me deu resposta', 'funcionario da agencia nao me deu resposta', 'o gerente nao me deu resposta', 'funcionario da gerente nao respondeu', 'ate o momento o funcionario da funcionario da agencia nao me deu resposta', 'ate agora a gerente nao me deu respostas', 'o gerente nao me deu parecer', 'o funcionario da agencia nao me deu parecer', 'ate o momento o funcionario da funcionario da agencia nao me deu parecer', 'ate o momento o funcionario da gerente nao me deu parecer', 'gerente nao me deu retorno', 'o agencia nao me deu parecer', 'agencia nao me retornou']\n"
     ]
    }
   ],
   "source": [
    "# ==============================================================================\n",
    "# ETAPA 3: EXPANSÃO DE FRASES COM SINÔNIMOS\n",
    "# ==============================================================================\n",
    "\n",
    "# Possíveis frases que indicam falta de retorno\n",
    "frases = [\n",
    "    'nao tive retorno',\n",
    "    'nenhum contato',\n",
    "    'falta de feedback'\n",
    "]\n",
    "sinonimos = [\n",
    "    ['contato', 'retorno', 'feedback', 'resposta'],\n",
    "    ['nenhum', 'sem', 'falta de', 'nao tive'],\n",
    "    ['recebi', 'obtive', 'tive'],\n",
    "    ['atendimento', 'suporte', 'apoio'],\n",
    "    ['ausencia', 'falta', 'sem'],\n",
    "]\n",
    "\n",
    "# Frases que indicam espera ou demora\n",
    "frases_espera = [\n",
    "    'ha dias',\n",
    "    'ha semanas',\n",
    "    'ha meses',\n",
    "    'desde o dia',\n",
    "    'ate agora nada',\n",
    "    'estou esperando'\n",
    "]\n",
    "sinonimos_espera = [\n",
    "    ['ha', 'faz', 'fazem'],\n",
    "    ['dia', 'dias', 'semana', 'semanas', 'mês', 'meses'],\n",
    "    ['desde', 'desde o dia', 'a partir de'],\n",
    "    ['ate agora nada', 'ate o momento nada', 'ate agora nenhuma resposta'],\n",
    "    ['estou esperando', 'aguardando', 'fico aguardando']\n",
    "]\n",
    "\n",
    "# Frases que indicam certeza sobre a falta de retorno\n",
    "frases_certeza = [\n",
    "    'agencia nao me retornou',\n",
    "    'agencia nao me deu resposta',\n",
    "    'ate agora a agencia nao me deu respostas',\n",
    "    'o gerente nao me deu retorno',\n",
    "    'funcionario da agencia nao respondeu',\n",
    "    'o gerente nao me respondeu',\n",
    "    'ate o momento o funcionario da agencia nao me deu retorno'\n",
    "]\n",
    "sinonimos_certeza = [\n",
    "    ['gerente', 'funcionario da agencia', 'agencia'],\n",
    "    ['resposta', 'retorno', 'parecer']\n",
    "]\n",
    "\n",
    "# pre processamento\n",
    "frases = [preprocess_text(fr) for fr in frases]\n",
    "sinonimos = [[preprocess_text(term) for term in group] for group in sinonimos]\n",
    "frases_espera = [preprocess_text(fr) for fr in frases_espera]\n",
    "sinonimos_espera = [[preprocess_text(term) for term in group] for group in sinonimos_espera]\n",
    "frases_certeza = [preprocess_text(fr) for fr in frases_certeza]\n",
    "sinonimos_certeza = [[preprocess_text(term) for term in group] for group in sinonimos_certeza]\n",
    "\n",
    "# Monta dicionários de lookup rápido\n",
    "sinonimos_map = {palavra: grupo for grupo in sinonimos for palavra in grupo}\n",
    "sinonimos_espera_map = {term: group for group in sinonimos_espera for term in group}\n",
    "sinonimos_certeza_map = {palavra: grupo for grupo in sinonimos_certeza for palavra in grupo}\n",
    "\n",
    "# Expansão de frases gerais\n",
    "frases_expandidas = []\n",
    "for frase in frases:\n",
    "    tokens = frase.split()\n",
    "    listas = [sinonimos_map.get(tok, [tok]) for tok in tokens]\n",
    "    for combo in itertools.product(*listas):\n",
    "        frases_expandidas.append(' '.join(combo))\n",
    "frases_expandidas = list(set(frases_expandidas))\n",
    "\n",
    "# Expansão das frases de espera\n",
    "expandidas_espera = []\n",
    "for frase in frases_espera:\n",
    "    tokens = frase.split()\n",
    "    listas = [sinonimos_espera_map.get(tok, [tok]) for tok in tokens]\n",
    "    for combo in itertools.product(*listas):\n",
    "        expandidas_espera.append(' '.join(combo))\n",
    "expandidas_espera = list(set(expandidas_espera))\n",
    "\n",
    "# Expansão de frases de certeza\n",
    "expandidas_certeza = []\n",
    "for frase in frases_certeza:\n",
    "    tokens = frase.split()\n",
    "    listas = [sinonimos_certeza_map.get(tok, [tok]) for tok in tokens]\n",
    "    for combo in itertools.product(*listas):\n",
    "        expandidas_certeza.append(' '.join(combo))\n",
    "expandidas_certeza = list(set(expandidas_certeza))\n",
    "\n",
    "print(\"Frases expandidas (possíveis falta de retorno):\")\n",
    "print(frases_expandidas)\n",
    "print(\"\\nFrases expandidas de possíveis espera:\")\n",
    "print(expandidas_espera)\n",
    "print(\"\\nFrases expandidas de certeza:\")\n",
    "print(expandidas_certeza)"
   ]
  },
  {
   "cell_type": "code",
   "execution_count": 60,
   "id": "9beba44d",
   "metadata": {},
   "outputs": [
    {
     "name": "stdout",
     "output_type": "stream",
     "text": [
      "Texto: 'fui ate a agencia para falar com o gerente sobre o meu problema mas nao tive retorno algum sobre o caso'\n",
      "Score Calculado: 0.85\n"
     ]
    }
   ],
   "source": [
    "# ==============================================================================\n",
    "# ETAPA 4: FUNÇÃO DE CÁLCULO DE SCORE\n",
    "# ==============================================================================\n",
    "\n",
    "def calculate_score(text, certeza_phrases, espera_phrases, normal_phrases):\n",
    "    \"\"\"\n",
    "    Calcula o score de probabilidade com a regra de \"certeza\" e o bônus de \"espera\".\n",
    "    \"\"\"\n",
    "    tokens = text.split()\n",
    "\n",
    "    # 1. Verifica a presença de \"agencia\". É o gatilho principal.\n",
    "    if 'agencia' not in tokens:\n",
    "        return 0.0\n",
    "    \n",
    "    # 2. Verifica se alguma \"frase de certeza\" está presente.\n",
    "    for phrase in certeza_phrases:\n",
    "        if phrase in text:\n",
    "            return 1.0\n",
    "\n",
    "    # 3. Inicia o cálculo do score base.\n",
    "    score = 0.25\n",
    "    target_indices = [i for i, token in enumerate(tokens) if token == 'agencia']\n",
    "\n",
    "    # Verifica a presença de \"gerente\"\n",
    "    if 'gerente' in tokens:\n",
    "        score += 0.25\n",
    "        target_indices.extend([i for i, token in enumerate(tokens) if token == 'gerente'])\n",
    "\n",
    "    # 4. (NOVO) Verifica a presença de frases de \"espera\" e adiciona um bônus.\n",
    "    for phrase in espera_phrases:\n",
    "        if phrase in text:\n",
    "            score += 0.15\n",
    "            break # Adiciona o bônus uma vez e para de procurar.\n",
    "\n",
    "    # 5. Verifica a presença de frases normais e calcula score de proximidade.\n",
    "    max_phrase_score = 0.0\n",
    "    for phrase in normal_phrases:\n",
    "        phrase_tokens = phrase.split()\n",
    "        len_phrase = len(phrase_tokens)\n",
    "        \n",
    "        for i in range(len(tokens) - len_phrase + 1):\n",
    "            if tokens[i:i+len_phrase] == phrase_tokens:\n",
    "                phrase_start_index = i\n",
    "                min_dist = float('inf')\n",
    "                for target_idx in target_indices:\n",
    "                    dist = abs(phrase_start_index - target_idx) -1\n",
    "                    if phrase_start_index + len_phrase <= target_idx:\n",
    "                        dist = target_idx - (phrase_start_index + len_phrase)\n",
    "                    elif phrase_start_index > target_idx:\n",
    "                        dist = phrase_start_index - (target_idx + 1)\n",
    "                    if dist < min_dist:\n",
    "                        min_dist = dist\n",
    "                \n",
    "                current_phrase_score = 0.0\n",
    "                if min_dist <= 2:\n",
    "                    current_phrase_score = 0.5\n",
    "                else:\n",
    "                    decay_factor = 0.05 \n",
    "                    current_phrase_score = max(0, 0.5 - (min_dist - 2) * decay_factor)\n",
    "                \n",
    "                if current_phrase_score > max_phrase_score:\n",
    "                    max_phrase_score = current_phrase_score\n",
    "\n",
    "    final_score = score + max_phrase_score\n",
    "    return min(final_score, 1.0)\n",
    "\n",
    "texto_exemplo = df['text_tratado'][0]\n",
    "score_exemplo = calculate_score(texto_exemplo, expandidas_certeza, expandidas_espera, frases_expandidas)\n",
    "print(f\"Texto: '{texto_exemplo}'\")\n",
    "print(f\"Score Calculado: {score_exemplo:.2f}\")"
   ]
  },
  {
   "cell_type": "code",
   "execution_count": 61,
   "id": "96f29a6c",
   "metadata": {},
   "outputs": [
    {
     "data": {
      "application/vnd.microsoft.datawrangler.viewer.v0+json": {
       "columns": [
        {
         "name": "index",
         "rawType": "int64",
         "type": "integer"
        },
        {
         "name": "Texto_BC",
         "rawType": "object",
         "type": "string"
        },
        {
         "name": "text_tratado",
         "rawType": "object",
         "type": "string"
        },
        {
         "name": "probabilidade_score",
         "rawType": "float64",
         "type": "float"
        }
       ],
       "ref": "142b4982-8d02-478c-8af4-1ac72eb8fe8d",
       "rows": [
        [
         "0",
         "Fui até a agencia para falar com o gerente sobre o meu problema, mas nao tive retorno algum sobre o caso.",
         "fui ate a agencia para falar com o gerente sobre o meu problema mas nao tive retorno algum sobre o caso",
         "0.85"
        ],
        [
         "2",
         "Total falta de feedback da minha agencia. Preciso de uma solução e não consigo falar com ninguém.",
         "total falta de feedback da minha agencia preciso de uma solucao e nao consigo falar com ninguem",
         "0.75"
        ],
        [
         "1",
         "Estou há semanas aguardando um contato da agencia. Ninguém me liga, o gerente nunca está disponível.",
         "estou ha semanas aguardando um contato da agencia ninguem me liga o gerente nunca esta disponivel",
         "0.65"
        ],
        [
         "6",
         "A agencia está sempre lotada. Pedi um retorno do meu gerente sobre o investimento e até agora nada.",
         "a agencia esta sempre lotada pedi um retorno do meu gerente sobre o investimento e ate agora nada",
         "0.65"
        ],
        [
         "3",
         "O aplicativo do banco é ótimo, mas o atendimento na agencia deixa a desejar. O gerente prometeu um retorno que nunca aconteceu.",
         "o aplicativo do banco e otimo mas o atendimento na agencia deixa a desejar o gerente prometeu um retorno que nunca aconteceu",
         "0.5"
        ],
        [
         "4",
         "Recebi um email sobre um novo produto, mas quando liguei para a central, não souberam me informar. Não tem a ver com a agencia.",
         "recebi um email sobre um novo produto mas quando liguei para a central nao souberam me informar nao tem a ver com a agencia",
         "0.25"
        ],
        [
         "7",
         "Não obtive nenhuma resposta da agencia sobre a minha solicitação. É uma completa falta de respeito com o cliente.",
         "nao obtive nenhuma resposta da agencia sobre a minha solicitacao e uma completa falta de respeito com o cliente",
         "0.25"
        ],
        [
         "5",
         "Problema resolvido rapidamente pelo telefone, não precisei ir ao banco nem falar com o gerente.",
         "problema resolvido rapidamente pelo telefone nao precisei ir ao banco nem falar com o gerente",
         "0.0"
        ]
       ],
       "shape": {
        "columns": 3,
        "rows": 8
       }
      },
      "text/html": [
       "<div>\n",
       "<style scoped>\n",
       "    .dataframe tbody tr th:only-of-type {\n",
       "        vertical-align: middle;\n",
       "    }\n",
       "\n",
       "    .dataframe tbody tr th {\n",
       "        vertical-align: top;\n",
       "    }\n",
       "\n",
       "    .dataframe thead th {\n",
       "        text-align: right;\n",
       "    }\n",
       "</style>\n",
       "<table border=\"1\" class=\"dataframe\">\n",
       "  <thead>\n",
       "    <tr style=\"text-align: right;\">\n",
       "      <th></th>\n",
       "      <th>Texto_BC</th>\n",
       "      <th>text_tratado</th>\n",
       "      <th>probabilidade_score</th>\n",
       "    </tr>\n",
       "  </thead>\n",
       "  <tbody>\n",
       "    <tr>\n",
       "      <th>0</th>\n",
       "      <td>Fui até a agencia para falar com o gerente sob...</td>\n",
       "      <td>fui ate a agencia para falar com o gerente sob...</td>\n",
       "      <td>0.85</td>\n",
       "    </tr>\n",
       "    <tr>\n",
       "      <th>2</th>\n",
       "      <td>Total falta de feedback da minha agencia. Prec...</td>\n",
       "      <td>total falta de feedback da minha agencia preci...</td>\n",
       "      <td>0.75</td>\n",
       "    </tr>\n",
       "    <tr>\n",
       "      <th>1</th>\n",
       "      <td>Estou há semanas aguardando um contato da agen...</td>\n",
       "      <td>estou ha semanas aguardando um contato da agen...</td>\n",
       "      <td>0.65</td>\n",
       "    </tr>\n",
       "    <tr>\n",
       "      <th>6</th>\n",
       "      <td>A agencia está sempre lotada. Pedi um retorno ...</td>\n",
       "      <td>a agencia esta sempre lotada pedi um retorno d...</td>\n",
       "      <td>0.65</td>\n",
       "    </tr>\n",
       "    <tr>\n",
       "      <th>3</th>\n",
       "      <td>O aplicativo do banco é ótimo, mas o atendimen...</td>\n",
       "      <td>o aplicativo do banco e otimo mas o atendiment...</td>\n",
       "      <td>0.50</td>\n",
       "    </tr>\n",
       "    <tr>\n",
       "      <th>4</th>\n",
       "      <td>Recebi um email sobre um novo produto, mas qua...</td>\n",
       "      <td>recebi um email sobre um novo produto mas quan...</td>\n",
       "      <td>0.25</td>\n",
       "    </tr>\n",
       "    <tr>\n",
       "      <th>7</th>\n",
       "      <td>Não obtive nenhuma resposta da agencia sobre a...</td>\n",
       "      <td>nao obtive nenhuma resposta da agencia sobre a...</td>\n",
       "      <td>0.25</td>\n",
       "    </tr>\n",
       "    <tr>\n",
       "      <th>5</th>\n",
       "      <td>Problema resolvido rapidamente pelo telefone, ...</td>\n",
       "      <td>problema resolvido rapidamente pelo telefone n...</td>\n",
       "      <td>0.00</td>\n",
       "    </tr>\n",
       "  </tbody>\n",
       "</table>\n",
       "</div>"
      ],
      "text/plain": [
       "                                            Texto_BC  \\\n",
       "0  Fui até a agencia para falar com o gerente sob...   \n",
       "2  Total falta de feedback da minha agencia. Prec...   \n",
       "1  Estou há semanas aguardando um contato da agen...   \n",
       "6  A agencia está sempre lotada. Pedi um retorno ...   \n",
       "3  O aplicativo do banco é ótimo, mas o atendimen...   \n",
       "4  Recebi um email sobre um novo produto, mas qua...   \n",
       "7  Não obtive nenhuma resposta da agencia sobre a...   \n",
       "5  Problema resolvido rapidamente pelo telefone, ...   \n",
       "\n",
       "                                        text_tratado  probabilidade_score  \n",
       "0  fui ate a agencia para falar com o gerente sob...                 0.85  \n",
       "2  total falta de feedback da minha agencia preci...                 0.75  \n",
       "1  estou ha semanas aguardando um contato da agen...                 0.65  \n",
       "6  a agencia esta sempre lotada pedi um retorno d...                 0.65  \n",
       "3  o aplicativo do banco e otimo mas o atendiment...                 0.50  \n",
       "4  recebi um email sobre um novo produto mas quan...                 0.25  \n",
       "7  nao obtive nenhuma resposta da agencia sobre a...                 0.25  \n",
       "5  problema resolvido rapidamente pelo telefone n...                 0.00  "
      ]
     },
     "execution_count": 61,
     "metadata": {},
     "output_type": "execute_result"
    }
   ],
   "source": [
    "# ==============================================================================\n",
    "# ETAPA 5: APLICAÇÃO DO PIPELINE E ANÁLISE DOS RESULTADOS\n",
    "# ==============================================================================\n",
    "\n",
    "df['probabilidade_score'] = df['text_tratado'].apply(\n",
    "    lambda text: calculate_score(\n",
    "        text, \n",
    "        expandidas_certeza, \n",
    "        expandidas_espera, \n",
    "        frases_expandidas\n",
    "    )\n",
    ")\n",
    "\n",
    "# Ordenando por score para melhor visualização\n",
    "df_resultado = df.sort_values(by='probabilidade_score', ascending=False)\n",
    "\n",
    "df_resultado"
   ]
  }
 ],
 "metadata": {
  "kernelspec": {
   "display_name": "Python 3",
   "language": "python",
   "name": "python3"
  },
  "language_info": {
   "codemirror_mode": {
    "name": "ipython",
    "version": 3
   },
   "file_extension": ".py",
   "mimetype": "text/x-python",
   "name": "python",
   "nbconvert_exporter": "python",
   "pygments_lexer": "ipython3",
   "version": "3.11.9"
  }
 },
 "nbformat": 4,
 "nbformat_minor": 5
}
