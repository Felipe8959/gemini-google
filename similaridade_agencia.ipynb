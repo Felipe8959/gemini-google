{
 "cells": [
  {
   "cell_type": "code",
   "execution_count": 16,
   "id": "d87e754d",
   "metadata": {},
   "outputs": [
    {
     "name": "stdout",
     "output_type": "stream",
     "text": [
      "safetensors                  0.4.5\n",
      "sentence-transformers        5.0.0\n",
      "tensorboard                  2.19.0\n",
      "tensorboard-data-server      0.7.2\n",
      "tensorflow-io-gcs-filesystem 0.31.0\n",
      "torch                        2.7.1\n",
      "transformers                 4.51.3\n"
     ]
    }
   ],
   "source": [
    "!python -m pip list | findstr -i \"torch tensor transformers\""
   ]
  },
  {
   "cell_type": "code",
   "execution_count": 16,
   "id": "d4b16d15",
   "metadata": {},
   "outputs": [],
   "source": [
    "from sentence_transformers import SentenceTransformer, util\n",
    "\n",
    "model = SentenceTransformer('paraphrase-multilingual-MiniLM-L12-v2')"
   ]
  },
  {
   "cell_type": "code",
   "execution_count": 44,
   "id": "c39fc47b",
   "metadata": {},
   "outputs": [
    {
     "data": {
      "text/plain": [
       "array([[ 0.12102936,  0.08120994,  0.15191577, ...,  0.01538015,\n",
       "        -0.02975922, -0.20485875],\n",
       "       [ 0.09367761, -0.11368023,  0.16063368, ..., -0.1482455 ,\n",
       "        -0.17852655, -0.21378818],\n",
       "       [-0.02578321, -0.12837312,  0.0571832 , ..., -0.11116888,\n",
       "        -0.04037835, -0.13879843],\n",
       "       ...,\n",
       "       [ 0.15645838,  0.04672366,  0.18105428, ...,  0.02525354,\n",
       "        -0.31324235,  0.29308414],\n",
       "       [ 0.01475083,  0.12711722,  0.07797929, ...,  0.10182348,\n",
       "        -0.0203455 ,  0.13040237],\n",
       "       [ 0.05750076,  0.11216976,  0.08232014, ..., -0.03714725,\n",
       "         0.02680157,  0.21167849]], dtype=float32)"
      ]
     },
     "execution_count": 44,
     "metadata": {},
     "output_type": "execute_result"
    }
   ],
   "source": [
    "sementes = [\n",
    "    \"A agência não me respondeu\",\n",
    "    \"Estou sem retorno da agência há dias\",\n",
    "    \"Ninguém na agência me atende\",\n",
    "    \"Já fui na agência e não obtive ajuda\",\n",
    "    \"Já fui na agência e não obtive retorno\",\n",
    "    \"Já fui na agência presencialmente e não obtive retorno\",\n",
    "    \"Contato com o gerente sem sucesso\",\n",
    "    \"Insatisfação com o gerente\",\n",
    "    \"Gerente não responde\",\n",
    "    \"Gerente não atende\"\n",
    "]\n",
    "\n",
    "emb_sementes = model.encode(sementes)\n",
    "emb_sementes"
   ]
  },
  {
   "cell_type": "code",
   "execution_count": 45,
   "id": "2366a9ab",
   "metadata": {},
   "outputs": [
    {
     "name": "stdout",
     "output_type": "stream",
     "text": [
      "0.4844748377799988\n",
      "0.5640543103218079\n"
     ]
    }
   ],
   "source": [
    "def similaridade(texto):\n",
    "    emb = model.encode([texto])\n",
    "    score = util.cos_sim(emb, emb_sementes).max().item()\n",
    "    return score\n",
    "\n",
    "texto_0 = \"\"\"\n",
    "Gostaria de expressar minha frustração em relação a um problema recorrente com meu cartão de crédito. Recentemente, tive meu cartão bloqueado sem aviso prévio, o que me causou diversos transtornos, inclusive a perda de uma compra importante. Fui até a agência para tentar resolver a situação e, apesar do contratempo, fui bem atendido pelos funcionários, que demonstraram cordialidade e disposição para ajudar. No entanto, mesmo com o esforço da equipe local, a resolução foi lenta e burocrática, exigindo diversos contatos com a central de atendimento, que por sua vez, foi ineficiente e contraditória nas informações. Esperava mais agilidade e clareza na comunicação por parte da instituição, especialmente se tratando de um serviço essencial como o cartão de crédito. Agradeço o empenho dos colaboradores da agência, mas reforço a necessidade de melhorias nos processos internos e no suporte ao cliente.\n",
    "\"\"\"\n",
    "\n",
    "texto_1 = \"\"\"\n",
    "Venho por meio desta manifestar minha profunda insatisfação com o atendimento prestado pela agência em questão. Desde o primeiro contato, fui tratado com descaso e falta de profissionalismo. Tive dificuldades para obter informações básicas, os prazos prometidos não foram cumpridos e, em diversas ocasiões, fui transferido entre atendentes sem que meu problema fosse efetivamente resolvido. Além disso, percebi total falta de empatia por parte da equipe, que demonstrou impaciência e despreparo para lidar com as demandas apresentadas. É inaceitável que uma instituição que deveria prezar pela qualidade no atendimento ao cliente mantenha esse tipo de conduta. Estou extremamente frustrado com a experiência e espero que medidas corretivas sejam tomadas com urgência. Caso contrário, tomarei as providências cabíveis junto aos órgãos competentes para garantir meus direitos como consumidor.\n",
    "\"\"\"\n",
    "print(similaridade(texto_0))\n",
    "print(similaridade(texto_1))"
   ]
  },
  {
   "cell_type": "markdown",
   "id": "1788b3a6",
   "metadata": {},
   "source": [
    "## Quebrar o texto em sentenças"
   ]
  },
  {
   "cell_type": "code",
   "execution_count": 49,
   "id": "a23bd161",
   "metadata": {},
   "outputs": [
    {
     "name": "stdout",
     "output_type": "stream",
     "text": [
      "0.5177465677261353 Fui até a agência para tentar resolver a situação e, apesar do contratempo, fui bem atendido pelos funcionários, que demonstraram cordialidade e disposição para ajudar.\n",
      "0.5961281061172485 Tive dificuldades para obter informações básicas, os prazos prometidos não foram cumpridos e, em diversas ocasiões, fui transferido entre atendentes sem que meu problema fosse efetivamente resolvido.\n"
     ]
    }
   ],
   "source": [
    "import nltk, numpy as np\n",
    "\n",
    "centro = np.mean(model.encode(sementes), axis=0, keepdims=True)\n",
    "\n",
    "def score_por_frase(texto):\n",
    "    frases = nltk.sent_tokenize(texto, language='portuguese')\n",
    "    emb_frases = model.encode(frases)\n",
    "    sims = util.cos_sim(emb_frases, centro).squeeze()\n",
    "    idx = int(sims.argmax())          # frase mais parecida\n",
    "    return float(sims.max()), frases[idx]\n",
    "\n",
    "score0, melhor_frase0 = score_por_frase(texto_0)\n",
    "score1, melhor_frase1 = score_por_frase(texto_1)\n",
    "print(score0, melhor_frase0)\n",
    "print(score1, melhor_frase1)"
   ]
  },
  {
   "cell_type": "code",
   "execution_count": null,
   "id": "9c273953",
   "metadata": {},
   "outputs": [],
   "source": []
  }
 ],
 "metadata": {
  "kernelspec": {
   "display_name": "Python 3",
   "language": "python",
   "name": "python3"
  },
  "language_info": {
   "codemirror_mode": {
    "name": "ipython",
    "version": 3
   },
   "file_extension": ".py",
   "mimetype": "text/x-python",
   "name": "python",
   "nbconvert_exporter": "python",
   "pygments_lexer": "ipython3",
   "version": "3.11.9"
  }
 },
 "nbformat": 4,
 "nbformat_minor": 5
}
