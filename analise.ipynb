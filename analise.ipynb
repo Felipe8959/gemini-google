{
 "cells": [
  {
   "cell_type": "code",
   "execution_count": 9,
   "metadata": {},
   "outputs": [],
   "source": [
    "import pandas as pd\n",
    "from dotenv import load_dotenv\n",
    "from langchain_community.chat_models import ChatOpenAI\n",
    "from langchain.chains import LLMChain\n",
    "from langchain.prompts import PromptTemplate\n",
    "import os"
   ]
  },
  {
   "cell_type": "code",
   "execution_count": 10,
   "metadata": {},
   "outputs": [
    {
     "data": {
      "text/plain": [
       "True"
      ]
     },
     "execution_count": 10,
     "metadata": {},
     "output_type": "execute_result"
    }
   ],
   "source": [
    "# carregar variáveis de ambiente\n",
    "load_dotenv()"
   ]
  },
  {
   "cell_type": "code",
   "execution_count": 11,
   "metadata": {},
   "outputs": [],
   "source": [
    "# chave da API\n",
    "api_key = os.getenv(\"OPENAI_API_KEY\")\n",
    "\n",
    "# Instanciar o modelo de linguagem com a chave da API\n",
    "llm = ChatOpenAI(openai_api_key=api_key, model_name=\"gpt-3.5-turbo\")"
   ]
  },
  {
   "cell_type": "markdown",
   "metadata": {},
   "source": [
    "## Dados"
   ]
  },
  {
   "cell_type": "code",
   "execution_count": 28,
   "metadata": {},
   "outputs": [
    {
     "data": {
      "text/html": [
       "<div>\n",
       "<style scoped>\n",
       "    .dataframe tbody tr th:only-of-type {\n",
       "        vertical-align: middle;\n",
       "    }\n",
       "\n",
       "    .dataframe tbody tr th {\n",
       "        vertical-align: top;\n",
       "    }\n",
       "\n",
       "    .dataframe thead th {\n",
       "        text-align: right;\n",
       "    }\n",
       "</style>\n",
       "<table border=\"1\" class=\"dataframe\">\n",
       "  <thead>\n",
       "    <tr style=\"text-align: right;\">\n",
       "      <th></th>\n",
       "      <th>PROTOCOLO</th>\n",
       "      <th>DESCRICAO DA MANIFESTACAO</th>\n",
       "      <th>sentimento</th>\n",
       "      <th>palavras_inapropriadas</th>\n",
       "      <th>resumo</th>\n",
       "      <th>sumarizacao</th>\n",
       "    </tr>\n",
       "  </thead>\n",
       "  <tbody>\n",
       "    <tr>\n",
       "      <th>0</th>\n",
       "      <td>1234</td>\n",
       "      <td>\"Estou extremamente insatisfeito com o atendim...</td>\n",
       "      <td>NaN</td>\n",
       "      <td>False</td>\n",
       "      <td>O autor está muito insatisfeito com o atendime...</td>\n",
       "      <td>O autor está muito insatisfeito com o atendime...</td>\n",
       "    </tr>\n",
       "    <tr>\n",
       "      <th>1</th>\n",
       "      <td>1235</td>\n",
       "      <td>\"Gostaria de parabenizar a equipe pelo excelen...</td>\n",
       "      <td>NaN</td>\n",
       "      <td>False</td>\n",
       "      <td>A equipe foi elogiada pelo excelente atendimen...</td>\n",
       "      <td>A equipe foi parabenizada pelo excelente atend...</td>\n",
       "    </tr>\n",
       "    <tr>\n",
       "      <th>2</th>\n",
       "      <td>1236</td>\n",
       "      <td>\"O aplicativo do banco está muito instável. Se...</td>\n",
       "      <td>-0.7</td>\n",
       "      <td>False</td>\n",
       "      <td>Usuário relata instabilidade no aplicativo do ...</td>\n",
       "      <td>O aplicativo do banco está com problemas, trav...</td>\n",
       "    </tr>\n",
       "    <tr>\n",
       "      <th>3</th>\n",
       "      <td>1237</td>\n",
       "      <td>\"Estou satisfeito com os serviços do banco, ma...</td>\n",
       "      <td>0.4</td>\n",
       "      <td>False</td>\n",
       "      <td>O cliente está satisfeito com os serviços do b...</td>\n",
       "      <td>O autor está satisfeito com os serviços do ban...</td>\n",
       "    </tr>\n",
       "    <tr>\n",
       "      <th>4</th>\n",
       "      <td>1238</td>\n",
       "      <td>\"O gerente da minha agência foi muito atencios...</td>\n",
       "      <td>NaN</td>\n",
       "      <td>False</td>\n",
       "      <td>O gerente da agência foi muito prestativo e re...</td>\n",
       "      <td>O gerente da agência foi atencioso e resolveu ...</td>\n",
       "    </tr>\n",
       "    <tr>\n",
       "      <th>5</th>\n",
       "      <td>1239</td>\n",
       "      <td>\"Acho que o atendimento telefônico poderia ser...</td>\n",
       "      <td>-0.7</td>\n",
       "      <td>False</td>\n",
       "      <td>O autor do texto acredita que o atendimento te...</td>\n",
       "      <td>O autor do texto sugere que o atendimento tele...</td>\n",
       "    </tr>\n",
       "    <tr>\n",
       "      <th>6</th>\n",
       "      <td>1240</td>\n",
       "      <td>\"Não tenho do que reclamar, sempre fui bem ate...</td>\n",
       "      <td>NaN</td>\n",
       "      <td>False</td>\n",
       "      <td>O cliente está satisfeito com o atendimento e ...</td>\n",
       "      <td>O autor do texto está satisfeito com o atendim...</td>\n",
       "    </tr>\n",
       "    <tr>\n",
       "      <th>7</th>\n",
       "      <td>1241</td>\n",
       "      <td>\"Fui cobrado indevidamente em uma transação e,...</td>\n",
       "      <td>-0.8</td>\n",
       "      <td>False</td>\n",
       "      <td>O autor foi cobrado indevidamente em uma trans...</td>\n",
       "      <td>A pessoa foi cobrada indevidamente em uma tran...</td>\n",
       "    </tr>\n",
       "    <tr>\n",
       "      <th>8</th>\n",
       "      <td>1242</td>\n",
       "      <td>\"O sistema de segurança do banco me parece exc...</td>\n",
       "      <td>0.8</td>\n",
       "      <td>False</td>\n",
       "      <td>O autor considera o sistema de segurança do ba...</td>\n",
       "      <td>O sistema de segurança do banco é excelente e ...</td>\n",
       "    </tr>\n",
       "    <tr>\n",
       "      <th>9</th>\n",
       "      <td>1243</td>\n",
       "      <td>\"Estou neutro quanto ao atendimento. Fui atend...</td>\n",
       "      <td>0.0</td>\n",
       "      <td>False</td>\n",
       "      <td>O cliente foi atendido de forma neutra, sem ne...</td>\n",
       "      <td>O atendimento foi neutro, sem destacar nenhuma...</td>\n",
       "    </tr>\n",
       "  </tbody>\n",
       "</table>\n",
       "</div>"
      ],
      "text/plain": [
       "   PROTOCOLO                          DESCRICAO DA MANIFESTACAO  sentimento  \\\n",
       "0       1234  \"Estou extremamente insatisfeito com o atendim...         NaN   \n",
       "1       1235  \"Gostaria de parabenizar a equipe pelo excelen...         NaN   \n",
       "2       1236  \"O aplicativo do banco está muito instável. Se...        -0.7   \n",
       "3       1237  \"Estou satisfeito com os serviços do banco, ma...         0.4   \n",
       "4       1238  \"O gerente da minha agência foi muito atencios...         NaN   \n",
       "5       1239  \"Acho que o atendimento telefônico poderia ser...        -0.7   \n",
       "6       1240  \"Não tenho do que reclamar, sempre fui bem ate...         NaN   \n",
       "7       1241  \"Fui cobrado indevidamente em uma transação e,...        -0.8   \n",
       "8       1242  \"O sistema de segurança do banco me parece exc...         0.8   \n",
       "9       1243  \"Estou neutro quanto ao atendimento. Fui atend...         0.0   \n",
       "\n",
       "   palavras_inapropriadas                                             resumo  \\\n",
       "0                   False  O autor está muito insatisfeito com o atendime...   \n",
       "1                   False  A equipe foi elogiada pelo excelente atendimen...   \n",
       "2                   False  Usuário relata instabilidade no aplicativo do ...   \n",
       "3                   False  O cliente está satisfeito com os serviços do b...   \n",
       "4                   False  O gerente da agência foi muito prestativo e re...   \n",
       "5                   False  O autor do texto acredita que o atendimento te...   \n",
       "6                   False  O cliente está satisfeito com o atendimento e ...   \n",
       "7                   False  O autor foi cobrado indevidamente em uma trans...   \n",
       "8                   False  O autor considera o sistema de segurança do ba...   \n",
       "9                   False  O cliente foi atendido de forma neutra, sem ne...   \n",
       "\n",
       "                                         sumarizacao  \n",
       "0  O autor está muito insatisfeito com o atendime...  \n",
       "1  A equipe foi parabenizada pelo excelente atend...  \n",
       "2  O aplicativo do banco está com problemas, trav...  \n",
       "3  O autor está satisfeito com os serviços do ban...  \n",
       "4  O gerente da agência foi atencioso e resolveu ...  \n",
       "5  O autor do texto sugere que o atendimento tele...  \n",
       "6  O autor do texto está satisfeito com o atendim...  \n",
       "7  A pessoa foi cobrada indevidamente em uma tran...  \n",
       "8  O sistema de segurança do banco é excelente e ...  \n",
       "9  O atendimento foi neutro, sem destacar nenhuma...  "
      ]
     },
     "execution_count": 28,
     "metadata": {},
     "output_type": "execute_result"
    }
   ],
   "source": [
    "arquivo = r\"C:\\Users\\felip\\Desktop\\teste_ia\\manifestacoes-ouvidoria.xlsx\"\n",
    "\n",
    "df = pd.read_excel(arquivo)\n",
    "df"
   ]
  },
  {
   "cell_type": "markdown",
   "metadata": {},
   "source": [
    "## Protocolos sem análise de IA"
   ]
  },
  {
   "cell_type": "code",
   "execution_count": 30,
   "metadata": {},
   "outputs": [
    {
     "data": {
      "text/html": [
       "<div>\n",
       "<style scoped>\n",
       "    .dataframe tbody tr th:only-of-type {\n",
       "        vertical-align: middle;\n",
       "    }\n",
       "\n",
       "    .dataframe tbody tr th {\n",
       "        vertical-align: top;\n",
       "    }\n",
       "\n",
       "    .dataframe thead th {\n",
       "        text-align: right;\n",
       "    }\n",
       "</style>\n",
       "<table border=\"1\" class=\"dataframe\">\n",
       "  <thead>\n",
       "    <tr style=\"text-align: right;\">\n",
       "      <th></th>\n",
       "      <th>PROTOCOLO</th>\n",
       "      <th>DESCRICAO DA MANIFESTACAO</th>\n",
       "      <th>sentimento</th>\n",
       "      <th>palavras_inapropriadas</th>\n",
       "      <th>resumo</th>\n",
       "      <th>sumarizacao</th>\n",
       "    </tr>\n",
       "  </thead>\n",
       "  <tbody>\n",
       "  </tbody>\n",
       "</table>\n",
       "</div>"
      ],
      "text/plain": [
       "Empty DataFrame\n",
       "Columns: [PROTOCOLO, DESCRICAO DA MANIFESTACAO, sentimento, palavras_inapropriadas, resumo, sumarizacao]\n",
       "Index: []"
      ]
     },
     "execution_count": 30,
     "metadata": {},
     "output_type": "execute_result"
    }
   ],
   "source": [
    "# filtra os protocolos que ainda não passaram pela IA\n",
    "df = df[\n",
    "    (df['DESCRICAO DA MANIFESTACAO'].notna()) & \n",
    "    (df['DESCRICAO DA MANIFESTACAO'] != '') & \n",
    "    (df['resumo'].isna() | (df['resumo'] == ''))\n",
    "]\n",
    "df"
   ]
  },
  {
   "cell_type": "markdown",
   "metadata": {},
   "source": [
    "## Prompts"
   ]
  },
  {
   "cell_type": "markdown",
   "metadata": {},
   "source": [
    "### Análise de sentimento"
   ]
  },
  {
   "cell_type": "code",
   "execution_count": 13,
   "metadata": {},
   "outputs": [],
   "source": [
    "sentimento_template = PromptTemplate(\n",
    "    input_variables=[\"texto\"],\n",
    "    template=\"\"\"\n",
    "    Analise o sentimento do seguinte texto e forneça uma pontuação numérica entre -1 (muito negativo) e 1 (muito positivo).\n",
    "\n",
    "    Texto:\n",
    "    {texto}\n",
    "\n",
    "    Pontuação:\n",
    "    \"\"\"\n",
    ")"
   ]
  },
  {
   "cell_type": "markdown",
   "metadata": {},
   "source": [
    "### Detecção de palavras inapropriadas"
   ]
  },
  {
   "cell_type": "code",
   "execution_count": 14,
   "metadata": {},
   "outputs": [],
   "source": [
    "palavras_inapropriadas_template = PromptTemplate(\n",
    "    input_variables=[\"texto\"],\n",
    "    template=\"\"\"\n",
    "    O texto a seguir contém palavras inapropriadas? Responda apenas 'Sim' ou 'Não'.\n",
    "\n",
    "    Texto:\n",
    "    {texto}\n",
    "\n",
    "    Resposta:\n",
    "    \"\"\"\n",
    ")"
   ]
  },
  {
   "cell_type": "markdown",
   "metadata": {},
   "source": [
    "### Resumo da manifestação"
   ]
  },
  {
   "cell_type": "code",
   "execution_count": 15,
   "metadata": {},
   "outputs": [],
   "source": [
    "resumo_template = PromptTemplate(\n",
    "    input_variables=[\"texto\"],\n",
    "    template=\"\"\"\n",
    "    Resuma o seguinte texto em português.\n",
    "\n",
    "    Texto:\n",
    "    {texto}\n",
    "\n",
    "    Resumo:\n",
    "    \"\"\"\n",
    ")"
   ]
  },
  {
   "cell_type": "markdown",
   "metadata": {},
   "source": [
    "## Chains para cada tarefa"
   ]
  },
  {
   "cell_type": "code",
   "execution_count": 17,
   "metadata": {},
   "outputs": [
    {
     "name": "stderr",
     "output_type": "stream",
     "text": [
      "C:\\Users\\felip\\AppData\\Local\\Temp\\ipykernel_23856\\1838828182.py:1: LangChainDeprecationWarning: The class `LLMChain` was deprecated in LangChain 0.1.17 and will be removed in 1.0. Use RunnableSequence, e.g., `prompt | llm` instead.\n",
      "  sentimento_chain = LLMChain(llm=llm, prompt=sentimento_template)\n"
     ]
    }
   ],
   "source": [
    "sentimento_chain = LLMChain(llm=llm, prompt=sentimento_template)\n",
    "palavras_inapropriadas_chain = LLMChain(llm=llm, prompt=palavras_inapropriadas_template)\n",
    "resumo_chain = LLMChain(llm=llm, prompt=resumo_template)"
   ]
  },
  {
   "cell_type": "markdown",
   "metadata": {},
   "source": [
    "## Funções"
   ]
  },
  {
   "cell_type": "code",
   "execution_count": 18,
   "metadata": {},
   "outputs": [],
   "source": [
    "# Função para análise de sentimento\n",
    "def analisar_sentimento(texto):\n",
    "    resposta = sentimento_chain.invoke({\"texto\": texto})\n",
    "    resposta_texto = resposta[\"text\"].strip()  # extrair texto do dicionário\n",
    "    try:\n",
    "        score = float(resposta_texto)\n",
    "    except ValueError:\n",
    "        score = None\n",
    "    return score\n",
    "\n",
    "# Função para detecção de palavras inapropriadas\n",
    "def detectar_palavras_inapropriadas(texto):\n",
    "    resposta = palavras_inapropriadas_chain.invoke({\"texto\": texto})\n",
    "    resposta_texto = resposta[\"text\"].strip()\n",
    "    return resposta_texto.lower() == 'sim'\n",
    "\n",
    "# Função para sumarização\n",
    "def resumir_texto(texto):\n",
    "    resposta = resumo_chain.invoke({\"texto\": texto})\n",
    "    resposta_texto = resposta[\"text\"].strip()\n",
    "    return resposta_texto"
   ]
  },
  {
   "cell_type": "markdown",
   "metadata": {},
   "source": [
    "## Execução"
   ]
  },
  {
   "cell_type": "code",
   "execution_count": 19,
   "metadata": {},
   "outputs": [],
   "source": [
    "# novas colunas no df\n",
    "df['sentimento'] = None\n",
    "df['palavras_inapropriadas'] = None\n",
    "df['sumarizacao'] = None\n",
    "\n",
    "# loop no df\n",
    "for index, row in df.iterrows():\n",
    "    texto = row['DESCRICAO DA MANIFESTACAO']\n",
    "    \n",
    "    # Analise de sentimento\n",
    "    score = analisar_sentimento(texto)\n",
    "    df.at[index, 'sentimento'] = score\n",
    "    \n",
    "    # Detectar palavras inapropriadas\n",
    "    contem_inapropriadas = detectar_palavras_inapropriadas(texto)\n",
    "    df.at[index, 'palavras_inapropriadas'] = contem_inapropriadas\n",
    "    \n",
    "    # Sumarização\n",
    "    resumo_sentimento = resumir_texto(texto)\n",
    "    df.at[index, 'sumarizacao'] = resumo_sentimento"
   ]
  },
  {
   "cell_type": "code",
   "execution_count": 20,
   "metadata": {},
   "outputs": [
    {
     "data": {
      "text/html": [
       "<div>\n",
       "<style scoped>\n",
       "    .dataframe tbody tr th:only-of-type {\n",
       "        vertical-align: middle;\n",
       "    }\n",
       "\n",
       "    .dataframe tbody tr th {\n",
       "        vertical-align: top;\n",
       "    }\n",
       "\n",
       "    .dataframe thead th {\n",
       "        text-align: right;\n",
       "    }\n",
       "</style>\n",
       "<table border=\"1\" class=\"dataframe\">\n",
       "  <thead>\n",
       "    <tr style=\"text-align: right;\">\n",
       "      <th></th>\n",
       "      <th>PROTOCOLO</th>\n",
       "      <th>DESCRICAO DA MANIFESTACAO</th>\n",
       "      <th>sentimento</th>\n",
       "      <th>palavras_inapropriadas</th>\n",
       "      <th>resumo</th>\n",
       "      <th>sumarizacao</th>\n",
       "    </tr>\n",
       "  </thead>\n",
       "  <tbody>\n",
       "    <tr>\n",
       "      <th>0</th>\n",
       "      <td>1234</td>\n",
       "      <td>\"Estou extremamente insatisfeito com o atendim...</td>\n",
       "      <td>None</td>\n",
       "      <td>False</td>\n",
       "      <td>O autor está muito insatisfeito com o atendime...</td>\n",
       "      <td>O autor está muito insatisfeito com o atendime...</td>\n",
       "    </tr>\n",
       "    <tr>\n",
       "      <th>1</th>\n",
       "      <td>1235</td>\n",
       "      <td>\"Gostaria de parabenizar a equipe pelo excelen...</td>\n",
       "      <td>None</td>\n",
       "      <td>False</td>\n",
       "      <td>A equipe foi elogiada pelo excelente atendimen...</td>\n",
       "      <td>A equipe foi parabenizada pelo excelente atend...</td>\n",
       "    </tr>\n",
       "    <tr>\n",
       "      <th>2</th>\n",
       "      <td>1236</td>\n",
       "      <td>\"O aplicativo do banco está muito instável. Se...</td>\n",
       "      <td>-0.7</td>\n",
       "      <td>False</td>\n",
       "      <td>Usuário relata instabilidade no aplicativo do ...</td>\n",
       "      <td>O aplicativo do banco está com problemas, trav...</td>\n",
       "    </tr>\n",
       "    <tr>\n",
       "      <th>3</th>\n",
       "      <td>1237</td>\n",
       "      <td>\"Estou satisfeito com os serviços do banco, ma...</td>\n",
       "      <td>0.4</td>\n",
       "      <td>False</td>\n",
       "      <td>O cliente está satisfeito com os serviços do b...</td>\n",
       "      <td>O autor está satisfeito com os serviços do ban...</td>\n",
       "    </tr>\n",
       "    <tr>\n",
       "      <th>4</th>\n",
       "      <td>1238</td>\n",
       "      <td>\"O gerente da minha agência foi muito atencios...</td>\n",
       "      <td>None</td>\n",
       "      <td>False</td>\n",
       "      <td>O gerente da agência foi muito prestativo e re...</td>\n",
       "      <td>O gerente da agência foi atencioso e resolveu ...</td>\n",
       "    </tr>\n",
       "    <tr>\n",
       "      <th>5</th>\n",
       "      <td>1239</td>\n",
       "      <td>\"Acho que o atendimento telefônico poderia ser...</td>\n",
       "      <td>-0.7</td>\n",
       "      <td>False</td>\n",
       "      <td>O autor do texto acredita que o atendimento te...</td>\n",
       "      <td>O autor do texto sugere que o atendimento tele...</td>\n",
       "    </tr>\n",
       "    <tr>\n",
       "      <th>6</th>\n",
       "      <td>1240</td>\n",
       "      <td>\"Não tenho do que reclamar, sempre fui bem ate...</td>\n",
       "      <td>None</td>\n",
       "      <td>False</td>\n",
       "      <td>O cliente está satisfeito com o atendimento e ...</td>\n",
       "      <td>O autor do texto está satisfeito com o atendim...</td>\n",
       "    </tr>\n",
       "    <tr>\n",
       "      <th>7</th>\n",
       "      <td>1241</td>\n",
       "      <td>\"Fui cobrado indevidamente em uma transação e,...</td>\n",
       "      <td>-0.8</td>\n",
       "      <td>False</td>\n",
       "      <td>O autor foi cobrado indevidamente em uma trans...</td>\n",
       "      <td>A pessoa foi cobrada indevidamente em uma tran...</td>\n",
       "    </tr>\n",
       "    <tr>\n",
       "      <th>8</th>\n",
       "      <td>1242</td>\n",
       "      <td>\"O sistema de segurança do banco me parece exc...</td>\n",
       "      <td>0.8</td>\n",
       "      <td>False</td>\n",
       "      <td>O autor considera o sistema de segurança do ba...</td>\n",
       "      <td>O sistema de segurança do banco é excelente e ...</td>\n",
       "    </tr>\n",
       "    <tr>\n",
       "      <th>9</th>\n",
       "      <td>1243</td>\n",
       "      <td>\"Estou neutro quanto ao atendimento. Fui atend...</td>\n",
       "      <td>0.0</td>\n",
       "      <td>False</td>\n",
       "      <td>O cliente foi atendido de forma neutra, sem ne...</td>\n",
       "      <td>O atendimento foi neutro, sem destacar nenhuma...</td>\n",
       "    </tr>\n",
       "  </tbody>\n",
       "</table>\n",
       "</div>"
      ],
      "text/plain": [
       "   PROTOCOLO                          DESCRICAO DA MANIFESTACAO sentimento  \\\n",
       "0       1234  \"Estou extremamente insatisfeito com o atendim...       None   \n",
       "1       1235  \"Gostaria de parabenizar a equipe pelo excelen...       None   \n",
       "2       1236  \"O aplicativo do banco está muito instável. Se...       -0.7   \n",
       "3       1237  \"Estou satisfeito com os serviços do banco, ma...        0.4   \n",
       "4       1238  \"O gerente da minha agência foi muito atencios...       None   \n",
       "5       1239  \"Acho que o atendimento telefônico poderia ser...       -0.7   \n",
       "6       1240  \"Não tenho do que reclamar, sempre fui bem ate...       None   \n",
       "7       1241  \"Fui cobrado indevidamente em uma transação e,...       -0.8   \n",
       "8       1242  \"O sistema de segurança do banco me parece exc...        0.8   \n",
       "9       1243  \"Estou neutro quanto ao atendimento. Fui atend...        0.0   \n",
       "\n",
       "  palavras_inapropriadas                                             resumo  \\\n",
       "0                  False  O autor está muito insatisfeito com o atendime...   \n",
       "1                  False  A equipe foi elogiada pelo excelente atendimen...   \n",
       "2                  False  Usuário relata instabilidade no aplicativo do ...   \n",
       "3                  False  O cliente está satisfeito com os serviços do b...   \n",
       "4                  False  O gerente da agência foi muito prestativo e re...   \n",
       "5                  False  O autor do texto acredita que o atendimento te...   \n",
       "6                  False  O cliente está satisfeito com o atendimento e ...   \n",
       "7                  False  O autor foi cobrado indevidamente em uma trans...   \n",
       "8                  False  O autor considera o sistema de segurança do ba...   \n",
       "9                  False  O cliente foi atendido de forma neutra, sem ne...   \n",
       "\n",
       "                                         sumarizacao  \n",
       "0  O autor está muito insatisfeito com o atendime...  \n",
       "1  A equipe foi parabenizada pelo excelente atend...  \n",
       "2  O aplicativo do banco está com problemas, trav...  \n",
       "3  O autor está satisfeito com os serviços do ban...  \n",
       "4  O gerente da agência foi atencioso e resolveu ...  \n",
       "5  O autor do texto sugere que o atendimento tele...  \n",
       "6  O autor do texto está satisfeito com o atendim...  \n",
       "7  A pessoa foi cobrada indevidamente em uma tran...  \n",
       "8  O sistema de segurança do banco é excelente e ...  \n",
       "9  O atendimento foi neutro, sem destacar nenhuma...  "
      ]
     },
     "execution_count": 20,
     "metadata": {},
     "output_type": "execute_result"
    }
   ],
   "source": [
    "df"
   ]
  },
  {
   "cell_type": "code",
   "execution_count": 21,
   "metadata": {},
   "outputs": [],
   "source": [
    "# Exportar\n",
    "df.to_excel(r\"C:\\Users\\felip\\Desktop\\teste_ia\\manifestacoes-ouvidoria.xlsx\", index=False)"
   ]
  },
  {
   "cell_type": "code",
   "execution_count": null,
   "metadata": {},
   "outputs": [],
   "source": []
  }
 ],
 "metadata": {
  "kernelspec": {
   "display_name": "Python 3",
   "language": "python",
   "name": "python3"
  },
  "language_info": {
   "codemirror_mode": {
    "name": "ipython",
    "version": 3
   },
   "file_extension": ".py",
   "mimetype": "text/x-python",
   "name": "python",
   "nbconvert_exporter": "python",
   "pygments_lexer": "ipython3",
   "version": "3.11.9"
  }
 },
 "nbformat": 4,
 "nbformat_minor": 2
}
